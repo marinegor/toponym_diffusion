{
 "cells": [
  {
   "cell_type": "code",
   "execution_count": 1,
   "metadata": {},
   "outputs": [],
   "source": [
    "import polars as pl\n",
    "import warnings\n",
    "from pathlib import Path"
   ]
  },
  {
   "cell_type": "code",
   "execution_count": 2,
   "metadata": {},
   "outputs": [],
   "source": [
    "def filename2dataframe(f: str) -> pl.DataFrame:\n",
    "    colnames = [\"name\", \"municipality\", \"coordinates\", \"province\"]\n",
    "    records = []\n",
    "    province = Path(f).stem\n",
    "    num_warnings = 0\n",
    "    with open(f, \"r\") as fin:\n",
    "        for idx, line in enumerate(fin):\n",
    "            try:\n",
    "                name, municip, coord = map(lambda s: s.strip(), line.split(\"\\t\")[:3])\n",
    "                records.append([name, municip, coord, province])\n",
    "            except Exception as e:\n",
    "                warnings.warn(f\"{e} occured while reading {f}\")\n",
    "                num_warnings += 1\n",
    "    warnings.warn(f\"{f} produced {num_warnings} warnings\")\n",
    "    return pl.DataFrame(\n",
    "        {colname: [row[i] for row in records] for i, colname in enumerate(colnames)}\n",
    "    )"
   ]
  },
  {
   "cell_type": "code",
   "execution_count": 3,
   "metadata": {},
   "outputs": [
    {
     "name": "stderr",
     "output_type": "stream",
     "text": [
      "/tmp/ipykernel_18701/1223642835.py:14: UserWarning: data/Groningen.txt produced 0 warnings\n",
      "  warnings.warn(f\"{f} produced {num_warnings} warnings\")\n"
     ]
    }
   ],
   "source": [
    "raw_data = filename2dataframe(\"data/Groningen.txt\")"
   ]
  },
  {
   "cell_type": "code",
   "execution_count": 4,
   "metadata": {},
   "outputs": [
    {
     "name": "stderr",
     "output_type": "stream",
     "text": [
      "/tmp/ipykernel_18701/1223642835.py:12: UserWarning: not enough values to unpack (expected 3, got 1) occured while reading data/Friesland.txt\n",
      "  warnings.warn(f\"{e} occured while reading {f}\")\n",
      "/tmp/ipykernel_18701/1223642835.py:14: UserWarning: data/Friesland.txt produced 28 warnings\n",
      "  warnings.warn(f\"{f} produced {num_warnings} warnings\")\n",
      "/tmp/ipykernel_18701/1223642835.py:14: UserWarning: data/Limburg.txt produced 0 warnings\n",
      "  warnings.warn(f\"{f} produced {num_warnings} warnings\")\n",
      "/tmp/ipykernel_18701/1223642835.py:14: UserWarning: data/NorthBrabant.txt produced 0 warnings\n",
      "  warnings.warn(f\"{f} produced {num_warnings} warnings\")\n",
      "/tmp/ipykernel_18701/1223642835.py:14: UserWarning: data/Flevoland.txt produced 0 warnings\n",
      "  warnings.warn(f\"{f} produced {num_warnings} warnings\")\n",
      "/tmp/ipykernel_18701/1223642835.py:14: UserWarning: data/Overijssel.txt produced 0 warnings\n",
      "  warnings.warn(f\"{f} produced {num_warnings} warnings\")\n",
      "/tmp/ipykernel_18701/1223642835.py:14: UserWarning: data/Drenthe.txt produced 0 warnings\n",
      "  warnings.warn(f\"{f} produced {num_warnings} warnings\")\n",
      "/tmp/ipykernel_18701/1223642835.py:14: UserWarning: data/NorthHolland.txt produced 0 warnings\n",
      "  warnings.warn(f\"{f} produced {num_warnings} warnings\")\n",
      "/tmp/ipykernel_18701/1223642835.py:14: UserWarning: data/Zeeland.txt produced 0 warnings\n",
      "  warnings.warn(f\"{f} produced {num_warnings} warnings\")\n",
      "/tmp/ipykernel_18701/1223642835.py:14: UserWarning: data/Utrecht.txt produced 0 warnings\n",
      "  warnings.warn(f\"{f} produced {num_warnings} warnings\")\n",
      "/tmp/ipykernel_18701/1223642835.py:14: UserWarning: data/SouthHolland.txt produced 0 warnings\n",
      "  warnings.warn(f\"{f} produced {num_warnings} warnings\")\n",
      "/tmp/ipykernel_18701/1223642835.py:14: UserWarning: data/Groningen.txt produced 0 warnings\n",
      "  warnings.warn(f\"{f} produced {num_warnings} warnings\")\n",
      "/tmp/ipykernel_18701/1223642835.py:14: UserWarning: data/Gelderland.txt produced 0 warnings\n",
      "  warnings.warn(f\"{f} produced {num_warnings} warnings\")\n"
     ]
    }
   ],
   "source": [
    "raw_data = pl.concat([filename2dataframe(f) for f in Path(\"data\").glob(\"*.txt\")])"
   ]
  },
  {
   "cell_type": "code",
   "execution_count": 5,
   "metadata": {},
   "outputs": [
    {
     "data": {
      "text/html": [
       "<div><style>\n",
       ".dataframe > thead > tr,\n",
       ".dataframe > tbody > tr {\n",
       "  text-align: right;\n",
       "  white-space: pre-wrap;\n",
       "}\n",
       "</style>\n",
       "<small>shape: (6_375, 4)</small><table border=\"1\" class=\"dataframe\"><thead><tr><th>name</th><th>municipality</th><th>coordinates</th><th>province</th></tr><tr><td>str</td><td>str</td><td>str</td><td>str</td></tr></thead><tbody><tr><td>&quot;Name&quot;</td><td>&quot;Municipality&quot;</td><td>&quot;Coordinates&quot;</td><td>&quot;Friesland&quot;</td></tr><tr><td>&quot;Augustinusga&quot;</td><td>&quot;Achtkarspelen&quot;</td><td>&quot;53°13′N 6°10′E&quot;</td><td>&quot;Friesland&quot;</td></tr><tr><td>&quot;Augsbuurt-Lutjewoude&quot;</td><td>&quot;Kollumerland en Nieuwkruisland&quot;</td><td>&quot;53°16′N 6°10′E&quot;</td><td>&quot;Friesland&quot;</td></tr><tr><td>&quot;Atzeburen&quot;</td><td>&quot;Súdwest-Fryslân&quot;</td><td>&quot;53°01′N 5°30′E&quot;</td><td>&quot;Friesland&quot;</td></tr><tr><td>&quot;Arum&quot;</td><td>&quot;Súdwest-Fryslân&quot;</td><td>&quot;53°08′N 5°29′E&quot;</td><td>&quot;Friesland&quot;</td></tr><tr><td>&hellip;</td><td>&hellip;</td><td>&hellip;</td><td>&hellip;</td></tr><tr><td>&quot;Zwarteweg&quot;</td><td>&quot;Oldebroek&quot;</td><td>&quot;52°28′N 5°55′E&quot;</td><td>&quot;Gelderland&quot;</td></tr><tr><td>&quot;Zweekhorst&quot;</td><td>&quot;Zevenaar&quot;</td><td>&quot;51°58′N 6°05′E&quot;</td><td>&quot;Gelderland&quot;</td></tr><tr><td>&quot;Zwiep&quot;</td><td>&quot;Lochem&quot;</td><td>&quot;52°09′N 6°27′E&quot;</td><td>&quot;Gelderland&quot;</td></tr><tr><td>&quot;Zwilbroek&quot;</td><td>&quot;Oost Gelre&quot;</td><td>&quot;52°03′N 6°41′E&quot;</td><td>&quot;Gelderland&quot;</td></tr><tr><td>&quot;Zwolle&quot;</td><td>&quot;Oost Gelre&quot;</td><td>&quot;52°02′N 6°39′E&quot;</td><td>&quot;Gelderland&quot;</td></tr></tbody></table></div>"
      ],
      "text/plain": [
       "shape: (6_375, 4)\n",
       "┌──────────────────────┬────────────────────────────────┬────────────────┬────────────┐\n",
       "│ name                 ┆ municipality                   ┆ coordinates    ┆ province   │\n",
       "│ ---                  ┆ ---                            ┆ ---            ┆ ---        │\n",
       "│ str                  ┆ str                            ┆ str            ┆ str        │\n",
       "╞══════════════════════╪════════════════════════════════╪════════════════╪════════════╡\n",
       "│ Name                 ┆ Municipality                   ┆ Coordinates    ┆ Friesland  │\n",
       "│ Augustinusga         ┆ Achtkarspelen                  ┆ 53°13′N 6°10′E ┆ Friesland  │\n",
       "│ Augsbuurt-Lutjewoude ┆ Kollumerland en Nieuwkruisland ┆ 53°16′N 6°10′E ┆ Friesland  │\n",
       "│ Atzeburen            ┆ Súdwest-Fryslân                ┆ 53°01′N 5°30′E ┆ Friesland  │\n",
       "│ Arum                 ┆ Súdwest-Fryslân                ┆ 53°08′N 5°29′E ┆ Friesland  │\n",
       "│ …                    ┆ …                              ┆ …              ┆ …          │\n",
       "│ Zwarteweg            ┆ Oldebroek                      ┆ 52°28′N 5°55′E ┆ Gelderland │\n",
       "│ Zweekhorst           ┆ Zevenaar                       ┆ 51°58′N 6°05′E ┆ Gelderland │\n",
       "│ Zwiep                ┆ Lochem                         ┆ 52°09′N 6°27′E ┆ Gelderland │\n",
       "│ Zwilbroek            ┆ Oost Gelre                     ┆ 52°03′N 6°41′E ┆ Gelderland │\n",
       "│ Zwolle               ┆ Oost Gelre                     ┆ 52°02′N 6°39′E ┆ Gelderland │\n",
       "└──────────────────────┴────────────────────────────────┴────────────────┴────────────┘"
      ]
     },
     "execution_count": 5,
     "metadata": {},
     "output_type": "execute_result"
    }
   ],
   "source": [
    "raw_data"
   ]
  },
  {
   "cell_type": "code",
   "execution_count": 6,
   "metadata": {},
   "outputs": [],
   "source": [
    "%load_ext autoreload\n",
    "%autoreload 2"
   ]
  },
  {
   "cell_type": "code",
   "execution_count": 7,
   "metadata": {},
   "outputs": [],
   "source": [
    "from utils import Tokenizer\n",
    "\n",
    "alphabet = \"\".join(set(\"\".join(raw_data.select(\"name\").get_column(\"name\").to_list())))\n",
    "\n",
    "t = Tokenizer(\n",
    "    alphabet=alphabet,\n",
    "    max_len=16,\n",
    ")"
   ]
  },
  {
   "cell_type": "code",
   "execution_count": 8,
   "metadata": {},
   "outputs": [
    {
     "data": {
      "text/html": [
       "<div><style>\n",
       ".dataframe > thead > tr,\n",
       ".dataframe > tbody > tr {\n",
       "  text-align: right;\n",
       "  white-space: pre-wrap;\n",
       "}\n",
       "</style>\n",
       "<small>shape: (12, 2)</small><table border=\"1\" class=\"dataframe\"><thead><tr><th>len</th><th>count</th></tr><tr><td>u32</td><td>u32</td></tr></thead><tbody><tr><td>4</td><td>261</td></tr><tr><td>5</td><td>423</td></tr><tr><td>6</td><td>648</td></tr><tr><td>7</td><td>719</td></tr><tr><td>8</td><td>874</td></tr><tr><td>&hellip;</td><td>&hellip;</td></tr><tr><td>11</td><td>578</td></tr><tr><td>12</td><td>352</td></tr><tr><td>13</td><td>229</td></tr><tr><td>14</td><td>162</td></tr><tr><td>15</td><td>125</td></tr></tbody></table></div>"
      ],
      "text/plain": [
       "shape: (12, 2)\n",
       "┌─────┬───────┐\n",
       "│ len ┆ count │\n",
       "│ --- ┆ ---   │\n",
       "│ u32 ┆ u32   │\n",
       "╞═════╪═══════╡\n",
       "│ 4   ┆ 261   │\n",
       "│ 5   ┆ 423   │\n",
       "│ 6   ┆ 648   │\n",
       "│ 7   ┆ 719   │\n",
       "│ 8   ┆ 874   │\n",
       "│ …   ┆ …     │\n",
       "│ 11  ┆ 578   │\n",
       "│ 12  ┆ 352   │\n",
       "│ 13  ┆ 229   │\n",
       "│ 14  ┆ 162   │\n",
       "│ 15  ┆ 125   │\n",
       "└─────┴───────┘"
      ]
     },
     "execution_count": 8,
     "metadata": {},
     "output_type": "execute_result"
    }
   ],
   "source": [
    "raw_data.with_columns(pl.col(\"name\").str.len_bytes().alias(\"len\")).get_column(\n",
    "    \"len\"\n",
    ").value_counts().sort(\"len\").filter(pl.col(\"count\") > 100)"
   ]
  },
  {
   "cell_type": "markdown",
   "metadata": {},
   "source": [
    "So we'll select only names between 4 and 15 tokens👌"
   ]
  },
  {
   "cell_type": "code",
   "execution_count": 25,
   "metadata": {},
   "outputs": [],
   "source": [
    "max_length = 15\n",
    "min_length = 4\n",
    "\n",
    "df = (\n",
    "    raw_data.rename({\"name\": \"sequence\"})\n",
    "    .select(\"sequence\")\n",
    "    .filter(\n",
    "        pl.col(\"sequence\").str.len_chars() >= 4,\n",
    "        pl.col(\"sequence\").str.len_chars() <= 14,\n",
    "        pl.col(\"sequence\").str.starts_with(\"Name\").not_(),\n",
    "    )\n",
    ")"
   ]
  },
  {
   "cell_type": "code",
   "execution_count": 30,
   "metadata": {},
   "outputs": [
    {
     "data": {
      "text/html": [
       "<div><style>\n",
       ".dataframe > thead > tr,\n",
       ".dataframe > tbody > tr {\n",
       "  text-align: right;\n",
       "  white-space: pre-wrap;\n",
       "}\n",
       "</style>\n",
       "<small>shape: (5_949, 2)</small><table border=\"1\" class=\"dataframe\"><thead><tr><th>sequence</th><th>split</th></tr><tr><td>str</td><td>str</td></tr></thead><tbody><tr><td>&quot;Augustinusga&quot;</td><td>&quot;&lt;Augustinusga&gt;......&quot;</td></tr><tr><td>&quot;Atzeburen&quot;</td><td>&quot;&lt;Atzeburen&gt;.........&quot;</td></tr><tr><td>&quot;Arum&quot;</td><td>&quot;&lt;Arum&gt;..............&quot;</td></tr><tr><td>&quot;Arkum&quot;</td><td>&quot;&lt;Arkum&gt;.............&quot;</td></tr><tr><td>&quot;Arkens&quot;</td><td>&quot;&lt;Arkens&gt;............&quot;</td></tr><tr><td>&hellip;</td><td>&hellip;</td></tr><tr><td>&quot;Zwarteweg&quot;</td><td>&quot;&lt;Zwarteweg&gt;.........&quot;</td></tr><tr><td>&quot;Zweekhorst&quot;</td><td>&quot;&lt;Zweekhorst&gt;........&quot;</td></tr><tr><td>&quot;Zwiep&quot;</td><td>&quot;&lt;Zwiep&gt;.............&quot;</td></tr><tr><td>&quot;Zwilbroek&quot;</td><td>&quot;&lt;Zwilbroek&gt;.........&quot;</td></tr><tr><td>&quot;Zwolle&quot;</td><td>&quot;&lt;Zwolle&gt;............&quot;</td></tr></tbody></table></div>"
      ],
      "text/plain": [
       "shape: (5_949, 2)\n",
       "┌──────────────┬──────────────────────┐\n",
       "│ sequence     ┆ split                │\n",
       "│ ---          ┆ ---                  │\n",
       "│ str          ┆ str                  │\n",
       "╞══════════════╪══════════════════════╡\n",
       "│ Augustinusga ┆ <Augustinusga>...... │\n",
       "│ Atzeburen    ┆ <Atzeburen>......... │\n",
       "│ Arum         ┆ <Arum>.............. │\n",
       "│ Arkum        ┆ <Arkum>............. │\n",
       "│ Arkens       ┆ <Arkens>............ │\n",
       "│ …            ┆ …                    │\n",
       "│ Zwarteweg    ┆ <Zwarteweg>......... │\n",
       "│ Zweekhorst   ┆ <Zweekhorst>........ │\n",
       "│ Zwiep        ┆ <Zwiep>............. │\n",
       "│ Zwilbroek    ┆ <Zwilbroek>......... │\n",
       "│ Zwolle       ┆ <Zwolle>............ │\n",
       "└──────────────┴──────────────────────┘"
      ]
     },
     "execution_count": 30,
     "metadata": {},
     "output_type": "execute_result"
    }
   ],
   "source": [
    "start_token = \"<\"\n",
    "end_token = \">\"\n",
    "pad_token = \".\"\n",
    "max_word_len = 20\n",
    "colname = \"sequence\"\n",
    "\n",
    "(\n",
    "    df.with_columns(\n",
    "        pl.concat_str(\n",
    "            pl.lit(start_token),\n",
    "            pl.col(colname),\n",
    "            pl.lit(end_token),\n",
    "        )\n",
    "        .str.pad_end(max_word_len, pad_token)\n",
    "        .alias(\"split\")\n",
    "        # .str.split(by=\"\")\n",
    "    )\n",
    ")"
   ]
  }
 ],
 "metadata": {
  "kernelspec": {
   "display_name": ".venv",
   "language": "python",
   "name": "python3"
  },
  "language_info": {
   "codemirror_mode": {
    "name": "ipython",
    "version": 3
   },
   "file_extension": ".py",
   "mimetype": "text/x-python",
   "name": "python",
   "nbconvert_exporter": "python",
   "pygments_lexer": "ipython3",
   "version": "3.10.12"
  }
 },
 "nbformat": 4,
 "nbformat_minor": 2
}
