{
 "cells": [
  {
   "cell_type": "code",
   "execution_count": 1,
   "metadata": {},
   "outputs": [],
   "source": [
    "%load_ext autoreload\n",
    "%autoreload 2"
   ]
  },
  {
   "cell_type": "code",
   "execution_count": 11,
   "metadata": {},
   "outputs": [],
   "source": [
    "from datasets import GeonamesDataset\n",
    "import polars as pl"
   ]
  },
  {
   "cell_type": "code",
   "execution_count": 12,
   "metadata": {},
   "outputs": [],
   "source": [
    "geonames = GeonamesDataset(\"./data/cities500.txt.gz\")"
   ]
  },
  {
   "cell_type": "code",
   "execution_count": 13,
   "metadata": {},
   "outputs": [
    {
     "data": {
      "text/html": [
       "<div><style>\n",
       ".dataframe > thead > tr,\n",
       ".dataframe > tbody > tr {\n",
       "  text-align: right;\n",
       "  white-space: pre-wrap;\n",
       "}\n",
       "</style>\n",
       "<small>shape: (10, 2)</small><table border=\"1\" class=\"dataframe\"><thead><tr><th>country code</th><th>count</th></tr><tr><td>str</td><td>u32</td></tr></thead><tbody><tr><td>&quot;CI&quot;</td><td>3777</td></tr><tr><td>&quot;GB&quot;</td><td>4203</td></tr><tr><td>&quot;MX&quot;</td><td>4668</td></tr><tr><td>&quot;RO&quot;</td><td>4784</td></tr><tr><td>&quot;IT&quot;</td><td>6464</td></tr><tr><td>&quot;ID&quot;</td><td>6568</td></tr><tr><td>&quot;FR&quot;</td><td>7475</td></tr><tr><td>&quot;DE&quot;</td><td>9489</td></tr><tr><td>&quot;CN&quot;</td><td>12367</td></tr><tr><td>&quot;US&quot;</td><td>12607</td></tr></tbody></table></div>"
      ],
      "text/plain": [
       "shape: (10, 2)\n",
       "┌──────────────┬───────┐\n",
       "│ country code ┆ count │\n",
       "│ ---          ┆ ---   │\n",
       "│ str          ┆ u32   │\n",
       "╞══════════════╪═══════╡\n",
       "│ CI           ┆ 3777  │\n",
       "│ GB           ┆ 4203  │\n",
       "│ MX           ┆ 4668  │\n",
       "│ RO           ┆ 4784  │\n",
       "│ IT           ┆ 6464  │\n",
       "│ ID           ┆ 6568  │\n",
       "│ FR           ┆ 7475  │\n",
       "│ DE           ┆ 9489  │\n",
       "│ CN           ┆ 12367 │\n",
       "│ US           ┆ 12607 │\n",
       "└──────────────┴───────┘"
      ]
     },
     "execution_count": 13,
     "metadata": {},
     "output_type": "execute_result"
    }
   ],
   "source": [
    "geonames.df.get_column(\"country code\").value_counts().sort(\"count\").tail(10)"
   ]
  },
  {
   "cell_type": "code",
   "execution_count": 14,
   "metadata": {},
   "outputs": [
    {
     "data": {
      "text/html": [
       "<div><style>\n",
       ".dataframe > thead > tr,\n",
       ".dataframe > tbody > tr {\n",
       "  text-align: right;\n",
       "  white-space: pre-wrap;\n",
       "}\n",
       "</style>\n",
       "<small>shape: (10, 4)</small><table border=\"1\" class=\"dataframe\"><thead><tr><th>sequence</th><th>feature code</th><th>country code</th><th>population</th></tr><tr><td>str</td><td>str</td><td>str</td><td>i64</td></tr></thead><tbody><tr><td>&quot;Lianhe&quot;</td><td>&quot;PPLA4&quot;</td><td>&quot;CN&quot;</td><td>0</td></tr><tr><td>&quot;Cosnes&quot;</td><td>&quot;PPL&quot;</td><td>&quot;FR&quot;</td><td>2110</td></tr><tr><td>&quot;Nilvange&quot;</td><td>&quot;PPL&quot;</td><td>&quot;FR&quot;</td><td>5430</td></tr><tr><td>&quot;Grajdana&quot;</td><td>&quot;PPL&quot;</td><td>&quot;RO&quot;</td><td>1008</td></tr><tr><td>&quot;Bergenhusen&quot;</td><td>&quot;PPLA4&quot;</td><td>&quot;DE&quot;</td><td>700</td></tr><tr><td>&quot;Wilster&quot;</td><td>&quot;PPL&quot;</td><td>&quot;DE&quot;</td><td>4443</td></tr><tr><td>&quot;Montgermont&quot;</td><td>&quot;PPL&quot;</td><td>&quot;FR&quot;</td><td>3012</td></tr><tr><td>&quot;Guojiaba&quot;</td><td>&quot;PPLA4&quot;</td><td>&quot;CN&quot;</td><td>0</td></tr><tr><td>&quot;Maysville&quot;</td><td>&quot;PPLA2&quot;</td><td>&quot;US&quot;</td><td>8819</td></tr><tr><td>&quot;Livingston&quot;</td><td>&quot;PPLA2&quot;</td><td>&quot;US&quot;</td><td>4071</td></tr></tbody></table></div>"
      ],
      "text/plain": [
       "shape: (10, 4)\n",
       "┌─────────────┬──────────────┬──────────────┬────────────┐\n",
       "│ sequence    ┆ feature code ┆ country code ┆ population │\n",
       "│ ---         ┆ ---          ┆ ---          ┆ ---        │\n",
       "│ str         ┆ str          ┆ str          ┆ i64        │\n",
       "╞═════════════╪══════════════╪══════════════╪════════════╡\n",
       "│ Lianhe      ┆ PPLA4        ┆ CN           ┆ 0          │\n",
       "│ Cosnes      ┆ PPL          ┆ FR           ┆ 2110       │\n",
       "│ Nilvange    ┆ PPL          ┆ FR           ┆ 5430       │\n",
       "│ Grajdana    ┆ PPL          ┆ RO           ┆ 1008       │\n",
       "│ Bergenhusen ┆ PPLA4        ┆ DE           ┆ 700        │\n",
       "│ Wilster     ┆ PPL          ┆ DE           ┆ 4443       │\n",
       "│ Montgermont ┆ PPL          ┆ FR           ┆ 3012       │\n",
       "│ Guojiaba    ┆ PPLA4        ┆ CN           ┆ 0          │\n",
       "│ Maysville   ┆ PPLA2        ┆ US           ┆ 8819       │\n",
       "│ Livingston  ┆ PPLA2        ┆ US           ┆ 4071       │\n",
       "└─────────────┴──────────────┴──────────────┴────────────┘"
      ]
     },
     "execution_count": 14,
     "metadata": {},
     "output_type": "execute_result"
    }
   ],
   "source": [
    "geonames.df.sample(10)"
   ]
  },
  {
   "cell_type": "code",
   "execution_count": 15,
   "metadata": {},
   "outputs": [],
   "source": [
    "df = geonames.df\n",
    "alphabet = \"\".join(\n",
    "    set(\"\".join(df.get_column(\"sequence\").str.split(\"\").explode().to_list()))\n",
    ")"
   ]
  },
  {
   "cell_type": "code",
   "execution_count": 44,
   "metadata": {},
   "outputs": [],
   "source": [
    "from utils import Tokenizer\n",
    "\n",
    "t = Tokenizer(\n",
    "    alphabet=alphabet,\n",
    "    max_len=20,\n",
    ")"
   ]
  },
  {
   "cell_type": "code",
   "execution_count": 45,
   "metadata": {},
   "outputs": [
    {
     "data": {
      "text/plain": [
       "['Soldeu',\n",
       " 'Ordino',\n",
       " 'Encamp',\n",
       " 'Canillo',\n",
       " 'Arinsal',\n",
       " 'Warisan',\n",
       " 'Murbah',\n",
       " 'Masfut',\n",
       " 'Jumayra',\n",
       " 'Sharjah']"
      ]
     },
     "execution_count": 45,
     "metadata": {},
     "output_type": "execute_result"
    }
   ],
   "source": [
    "t.decode(t.encode(df)[:10])"
   ]
  }
 ],
 "metadata": {
  "kernelspec": {
   "display_name": ".venv",
   "language": "python",
   "name": "python3"
  },
  "language_info": {
   "codemirror_mode": {
    "name": "ipython",
    "version": 3
   },
   "file_extension": ".py",
   "mimetype": "text/x-python",
   "name": "python",
   "nbconvert_exporter": "python",
   "pygments_lexer": "ipython3",
   "version": "3.10.12"
  }
 },
 "nbformat": 4,
 "nbformat_minor": 2
}
