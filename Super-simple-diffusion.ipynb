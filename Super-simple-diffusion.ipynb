{
 "cells": [
  {
   "cell_type": "code",
   "execution_count": 2,
   "metadata": {},
   "outputs": [],
   "source": [
    "import torch\n",
    "from torch import nn\n",
    "import torch.nn.functional as F"
   ]
  },
  {
   "cell_type": "code",
   "execution_count": 214,
   "metadata": {},
   "outputs": [],
   "source": [
    "from torchtyping import TensorType as T\n",
    "\n",
    "\n",
    "def make_dataset(\n",
    "    centers: list[tuple[float, float]] = [(-0.5, 0), (0.5, 0)],\n",
    "    size_each: int = 10_000,\n",
    "    sigma: float = 0.07,\n",
    ") -> list[T[\"size\", 2, torch.float]]:  # noqa: F821\n",
    "    points = []\n",
    "    for x, y in centers:\n",
    "        subset = torch.randn(size=(size_each, 2)) * sigma\n",
    "        subset += torch.tensor([x, y])\n",
    "        subset = subset.clip(min=-1, max=1)\n",
    "        points.append(subset)\n",
    "    return points"
   ]
  },
  {
   "cell_type": "code",
   "execution_count": 215,
   "metadata": {},
   "outputs": [],
   "source": [
    "x = make_dataset(\n",
    "    centers=[\n",
    "        (-0.5, 0),\n",
    "        (0.5, 0),\n",
    "        (0.1, 0.3),\n",
    "    ],\n",
    "    sigma=0.05,\n",
    ")\n",
    "\n",
    "x = torch.cat(x)"
   ]
  },
  {
   "cell_type": "code",
   "execution_count": 216,
   "metadata": {},
   "outputs": [
    {
     "data": {
      "text/plain": [
       "<matplotlib.collections.PathCollection at 0x7fe474768310>"
      ]
     },
     "execution_count": 216,
     "metadata": {},
     "output_type": "execute_result"
    },
    {
     "data": {
      "image/png": "[encoded data removed]",
      "text/plain": [
       "<Figure size 640x480 with 1 Axes>"
      ]
     },
     "metadata": {},
     "output_type": "display_data"
    }
   ],
   "source": [
    "import matplotlib.pyplot as plt\n",
    "\n",
    "plt.scatter(x=x[:, 0], y=x[:, 1])"
   ]
  },
  {
   "cell_type": "code",
   "execution_count": 217,
   "metadata": {},
   "outputs": [
    {
     "name": "stdout",
     "output_type": "stream",
     "text": [
      "Train set size: torch.Size([1600, 2])\n",
      "Test set size: torch.Size([200, 2])\n",
      "Validation set size: torch.Size([200, 2])\n"
     ]
    }
   ],
   "source": [
    "import torch\n",
    "\n",
    "X = torch.cat(make_dataset(size_each=1_000))\n",
    "\n",
    "total_samples = X.size(0)\n",
    "\n",
    "# Define the proportions for train, test, and validation sets\n",
    "train_ratio = 0.8\n",
    "test_ratio = 0.1\n",
    "val_ratio = 0.1\n",
    "\n",
    "# Calculate the number of samples for each set\n",
    "num_train = int(total_samples * train_ratio)\n",
    "num_test = int(total_samples * test_ratio)\n",
    "num_val = total_samples - num_train - num_test\n",
    "\n",
    "# Generate random indices\n",
    "indices = torch.randperm(total_samples)\n",
    "\n",
    "# Split the indices into train, test, and validation sets\n",
    "train_indices = indices[:num_train]\n",
    "test_indices = indices[num_train : num_train + num_test]\n",
    "val_indices = indices[num_train + num_test :]\n",
    "\n",
    "# Create the train, test, and validation sets\n",
    "X_train = X[train_indices]\n",
    "X_test = X[test_indices]\n",
    "X_val = X[val_indices]\n",
    "\n",
    "print(\"Train set size:\", X_train.shape)\n",
    "print(\"Test set size:\", X_test.shape)\n",
    "print(\"Validation set size:\", X_val.shape)"
   ]
  },
  {
   "cell_type": "code",
   "execution_count": 218,
   "metadata": {},
   "outputs": [],
   "source": [
    "from diffusion import Scheduler, ForwardDiffusionProcess\n",
    "\n",
    "max_T = 100\n",
    "scheduler = Scheduler(T=max_T)\n",
    "diffusion = ForwardDiffusionProcess(scheduler=scheduler)"
   ]
  },
  {
   "cell_type": "code",
   "execution_count": 231,
   "metadata": {},
   "outputs": [],
   "source": [
    "from model import TimeEncoding\n",
    "\n",
    "\n",
    "class DenoiserWithTime(nn.Module):\n",
    "    def __init__(self, d_embed: int = 4, max_T: int = 100, d_hidden: int = 5):\n",
    "        super().__init__()\n",
    "        self.te = TimeEncoding(d_embed=d_embed, max_T=max_T)\n",
    "        self.embed = nn.Linear(2, d_embed)\n",
    "        self.layers = nn.Sequential(\n",
    "            nn.Linear(d_embed, d_hidden),\n",
    "            nn.ReLU(),\n",
    "            nn.LayerNorm(d_hidden),\n",
    "            # nn.Dropout(0.1),\n",
    "            nn.Linear(d_hidden, 2),\n",
    "            nn.ReLU(),\n",
    "            nn.Softmax(dim=1),\n",
    "        )\n",
    "\n",
    "    def forward(\n",
    "        self,\n",
    "        x: T[\"b\", 2, torch.float],  # noqa: F821\n",
    "        t: T[\"b\", torch.long],  # noqa: F821\n",
    "    ) -> T[\"b\", 2, torch.float]:  # noqa: F821\n",
    "        xe = self.embed(x) + self.te(t)\n",
    "        return self.layers(xe)"
   ]
  },
  {
   "cell_type": "code",
   "execution_count": 232,
   "metadata": {},
   "outputs": [],
   "source": [
    "model = DenoiserWithTime(max_T=max_T, d_embed=10, d_hidden=15)"
   ]
  },
  {
   "cell_type": "code",
   "execution_count": 233,
   "metadata": {},
   "outputs": [
    {
     "data": {
      "application/vnd.jupyter.widget-view+json": {
       "model_id": "44d0bb06927e489482f1f2fa9c655802",
       "version_major": 2,
       "version_minor": 0
      },
      "text/plain": [
       "  0%|          | 0/10000 [00:00<?, ?it/s]"
      ]
     },
     "metadata": {},
     "output_type": "display_data"
    },
    {
     "name": "stdout",
     "output_type": "stream",
     "text": [
      "epoch=0, train_loss=0.4380, test_loss=0.1221\n",
      "epoch=1000, train_loss=0.3555, test_loss=0.0966\n",
      "epoch=2000, train_loss=0.3568, test_loss=0.0993\n",
      "epoch=3000, train_loss=0.3605, test_loss=0.1154\n",
      "epoch=4000, train_loss=0.3526, test_loss=0.1269\n",
      "epoch=5000, train_loss=0.3561, test_loss=0.1584\n",
      "epoch=6000, train_loss=0.3509, test_loss=0.1210\n",
      "epoch=7000, train_loss=0.3570, test_loss=0.1136\n",
      "epoch=8000, train_loss=0.3706, test_loss=0.1171\n",
      "epoch=9000, train_loss=0.3536, test_loss=0.0860\n"
     ]
    }
   ],
   "source": [
    "from torch.optim import AdamW\n",
    "from tqdm.notebook import tqdm\n",
    "\n",
    "optimizer = AdamW(model.parameters(), lr=0.001)\n",
    "\n",
    "num_epochs = 10_000\n",
    "n = X_train.shape[0]\n",
    "\n",
    "for epoch in tqdm(range(num_epochs)):\n",
    "    model.train()\n",
    "    optimizer.zero_grad()\n",
    "\n",
    "    x = X_train\n",
    "    t = torch.randint(0, max_T, size=(n,))\n",
    "    x_t = diffusion.sample_T(x, t)\n",
    "    x_t_pred = model(x_t, t)\n",
    "\n",
    "    loss = F.mse_loss(x_t_pred, x_t)\n",
    "\n",
    "    loss.backward()\n",
    "    optimizer.step()\n",
    "\n",
    "    # validation\n",
    "\n",
    "    model.eval()\n",
    "    with torch.no_grad():\n",
    "        n_test = X_test.shape[0]\n",
    "        x_test = X_test\n",
    "        t_test = torch.randint(0, max_T, size=(n_test,))\n",
    "        x_t_test = diffusion.sample_T(x_test, t_test)\n",
    "        x_t_pred_test = model(x_t_test, t_test)\n",
    "        loss_test = F.mse_loss(x_t_test, x_test)\n",
    "    if epoch % 1000 == 0:\n",
    "        print(\n",
    "            f\"{epoch=}, train_loss={loss.item():2.4f}, test_loss={loss_test.item():2.4f}\"\n",
    "        )"
   ]
  },
  {
   "cell_type": "code",
   "execution_count": 234,
   "metadata": {},
   "outputs": [
    {
     "ename": "AttributeError",
     "evalue": "'DenoiserWithTime' object has no attribute 'alphabet_size'",
     "output_type": "error",
     "traceback": [
      "\u001b[0;31m---------------------------------------------------------------------------\u001b[0m",
      "\u001b[0;31mAttributeError\u001b[0m                            Traceback (most recent call last)",
      "Cell \u001b[0;32mIn[234], line 1\u001b[0m\n\u001b[0;32m----> 1\u001b[0m \u001b[43mdiffusion\u001b[49m\u001b[38;5;241;43m.\u001b[39;49m\u001b[43msample\u001b[49m\u001b[43m(\u001b[49m\u001b[43mmodel\u001b[49m\u001b[43m,\u001b[49m\u001b[43m \u001b[49m\u001b[43mn\u001b[49m\u001b[38;5;241;43m=\u001b[39;49m\u001b[38;5;241;43m20\u001b[39;49m\u001b[43m,\u001b[49m\u001b[43m \u001b[49m\u001b[43mmax_T\u001b[49m\u001b[38;5;241;43m=\u001b[39;49m\u001b[43mmax_T\u001b[49m\u001b[43m)\u001b[49m\n",
      "File \u001b[0;32m~/github/toponym_diffusion/diffusion.py:162\u001b[0m, in \u001b[0;36mForwardDiffusionProcess.sample\u001b[0;34m(self, model, n, max_T)\u001b[0m\n\u001b[1;32m    159\u001b[0m model\u001b[38;5;241m.\u001b[39meval()\n\u001b[1;32m    160\u001b[0m \u001b[38;5;28;01mwith\u001b[39;00m torch\u001b[38;5;241m.\u001b[39mno_grad():\n\u001b[1;32m    161\u001b[0m     noise_probs \u001b[38;5;241m=\u001b[39m torch\u001b[38;5;241m.\u001b[39mrandint(\n\u001b[0;32m--> 162\u001b[0m         low\u001b[38;5;241m=\u001b[39m\u001b[38;5;241m0\u001b[39m, high\u001b[38;5;241m=\u001b[39m\u001b[43mmodel\u001b[49m\u001b[38;5;241;43m.\u001b[39;49m\u001b[43malphabet_size\u001b[49m, size\u001b[38;5;241m=\u001b[39m(n, model\u001b[38;5;241m.\u001b[39mn_tokens)\n\u001b[1;32m    163\u001b[0m     )\u001b[38;5;241m.\u001b[39mfloat()\n\u001b[1;32m    165\u001b[0m     \u001b[38;5;28;01mfor\u001b[39;00m t \u001b[38;5;129;01min\u001b[39;00m \u001b[38;5;28mreversed\u001b[39m(\u001b[38;5;28mrange\u001b[39m(max_T)):\n\u001b[1;32m    166\u001b[0m         t \u001b[38;5;241m=\u001b[39m (torch\u001b[38;5;241m.\u001b[39mones(n) \u001b[38;5;241m*\u001b[39m t)\u001b[38;5;241m.\u001b[39mlong()\n",
      "File \u001b[0;32m~/github/toponym_diffusion/.venv/lib/python3.10/site-packages/torch/nn/modules/module.py:1709\u001b[0m, in \u001b[0;36mModule.__getattr__\u001b[0;34m(self, name)\u001b[0m\n\u001b[1;32m   1707\u001b[0m     \u001b[38;5;28;01mif\u001b[39;00m name \u001b[38;5;129;01min\u001b[39;00m modules:\n\u001b[1;32m   1708\u001b[0m         \u001b[38;5;28;01mreturn\u001b[39;00m modules[name]\n\u001b[0;32m-> 1709\u001b[0m \u001b[38;5;28;01mraise\u001b[39;00m \u001b[38;5;167;01mAttributeError\u001b[39;00m(\u001b[38;5;124mf\u001b[39m\u001b[38;5;124m\"\u001b[39m\u001b[38;5;124m'\u001b[39m\u001b[38;5;132;01m{\u001b[39;00m\u001b[38;5;28mtype\u001b[39m(\u001b[38;5;28mself\u001b[39m)\u001b[38;5;241m.\u001b[39m\u001b[38;5;18m__name__\u001b[39m\u001b[38;5;132;01m}\u001b[39;00m\u001b[38;5;124m'\u001b[39m\u001b[38;5;124m object has no attribute \u001b[39m\u001b[38;5;124m'\u001b[39m\u001b[38;5;132;01m{\u001b[39;00mname\u001b[38;5;132;01m}\u001b[39;00m\u001b[38;5;124m'\u001b[39m\u001b[38;5;124m\"\u001b[39m)\n",
      "\u001b[0;31mAttributeError\u001b[0m: 'DenoiserWithTime' object has no attribute 'alphabet_size'"
     ]
    }
   ],
   "source": [
    "def sample(self, model: nn.Module, n: int, max_T: int):\n",
    "    model.eval()\n",
    "    with torch.no_grad():\n",
    "        noise_probs = torch.randint(\n",
    "            low=0, high=model.alphabet_size, size=(n, model.n_tokens)\n",
    "        ).float()\n",
    "\n",
    "        for t in reversed(range(max_T)):\n",
    "            t = (torch.ones(n) * t).long()\n",
    "            x = predicted_probs = model(noise_probs, t)\n",
    "\n",
    "            alpha = self.scheduler.get_alphas(t).reshape(-1, 1, 1)\n",
    "            alphabar = self.scheduler.get_alphabar(t).reshape(-1, 1, 1)\n",
    "            beta = self.scheduler.get_betas(t).reshape(-1, 1, 1)\n",
    "            noise = torch.randn_like(x)\n",
    "\n",
    "            x = (\n",
    "                1\n",
    "                / torch.sqrt(alpha)\n",
    "                * (x - ((1 - alpha) / (torch.sqrt(1 - alphabar))) * x)\n",
    "                + torch.sqrt(beta) * noise\n",
    "            )\n",
    "\n",
    "    return predicted_probs"
   ]
  }
 ],
 "metadata": {
  "kernelspec": {
   "display_name": ".venv",
   "language": "python",
   "name": "python3"
  },
  "language_info": {
   "codemirror_mode": {
    "name": "ipython",
    "version": 3
   },
   "file_extension": ".py",
   "mimetype": "text/x-python",
   "name": "python",
   "nbconvert_exporter": "python",
   "pygments_lexer": "ipython3",
   "version": "3.10.12"
  }
 },
 "nbformat": 4,
 "nbformat_minor": 2
}
